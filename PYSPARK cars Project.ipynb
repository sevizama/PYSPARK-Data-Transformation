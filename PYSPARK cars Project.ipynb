{
 "cells": [
  {
   "cell_type": "markdown",
   "metadata": {},
   "source": [
    "# Data PROCESSING And TRANSFORMATION Using PYSPARK (cars csv)"
   ]
  },
  {
   "cell_type": "code",
   "execution_count": 2,
   "metadata": {},
   "outputs": [],
   "source": [
    "#Start SPARK session\n",
    "\n",
    "import pyspark\n",
    "from pyspark.sql import SparkSession\n",
    "spark = SparkSession.builder \\\n",
    "    .appName(\"MiDemo\") \\\n",
    "    .getOrCreate()"
   ]
  },
  {
   "cell_type": "markdown",
   "metadata": {},
   "source": [
    "## Importing CARS File"
   ]
  },
  {
   "cell_type": "code",
   "execution_count": 3,
   "metadata": {},
   "outputs": [
    {
     "name": "stdout",
     "output_type": "stream",
     "text": [
      "+----+---------+------------+----------+------+------------+----------+------+--------------------+\n",
      "| mpg|cylinders|displacement|horsepower|weight|acceleration|model_year|origin|                name|\n",
      "+----+---------+------------+----------+------+------------+----------+------+--------------------+\n",
      "|18.0|        8|       307.0|     130.0|  3504|        12.0|        70|   usa|chevrolet chevell...|\n",
      "|15.0|        8|       350.0|     165.0|  3693|        11.5|        70|   usa|   buick skylark 320|\n",
      "|18.0|        8|       318.0|     150.0|  3436|        11.0|        70|   usa|  plymouth satellite|\n",
      "|16.0|        8|       304.0|     150.0|  3433|        12.0|        70|   usa|       amc rebel sst|\n",
      "|17.0|        8|       302.0|     140.0|  3449|        10.5|        70|   usa|         ford torino|\n",
      "|15.0|        8|       429.0|     198.0|  4341|        10.0|        70|   usa|    ford galaxie 500|\n",
      "|14.0|        8|       454.0|     220.0|  4354|         9.0|        70|   usa|    chevrolet impala|\n",
      "|14.0|        8|       440.0|     215.0|  4312|         8.5|        70|   usa|   plymouth fury iii|\n",
      "|14.0|        8|       455.0|     225.0|  4425|        10.0|        70|   usa|    pontiac catalina|\n",
      "|15.0|        8|       390.0|     190.0|  3850|         8.5|        70|   usa|  amc ambassador dpl|\n",
      "|15.0|        8|       383.0|     170.0|  3563|        10.0|        70|   usa| dodge challenger se|\n",
      "|14.0|        8|       340.0|     160.0|  3609|         8.0|        70|   usa|  plymouth 'cuda 340|\n",
      "|15.0|        8|       400.0|     150.0|  3761|         9.5|        70|   usa|chevrolet monte c...|\n",
      "|14.0|        8|       455.0|     225.0|  3086|        10.0|        70|   usa|buick estate wago...|\n",
      "|24.0|        4|       113.0|      95.0|  2372|        15.0|        70| japan|toyota corona mar...|\n",
      "|22.0|        6|       198.0|      95.0|  2833|        15.5|        70|   usa|     plymouth duster|\n",
      "|18.0|        6|       199.0|      97.0|  2774|        15.5|        70|   usa|          amc hornet|\n",
      "|21.0|        6|       200.0|      85.0|  2587|        16.0|        70|   usa|       ford maverick|\n",
      "|27.0|        4|        97.0|      88.0|  2130|        14.5|        70| japan|        datsun pl510|\n",
      "|26.0|        4|        97.0|      46.0|  1835|        20.5|        70|europe|vw 1131 deluxe sedan|\n",
      "+----+---------+------------+----------+------+------------+----------+------+--------------------+\n",
      "only showing top 20 rows\n",
      "\n"
     ]
    }
   ],
   "source": [
    "df = spark.read.format('csv').option('header','true').load(r'C:\\Users\\jsevillz\\OneDrive - NTT DATA EMEAL\\Desktop\\Proyectos y demas\\spark\\cars.csv')\n",
    "df.show(n=20)"
   ]
  },
  {
   "cell_type": "markdown",
   "metadata": {},
   "source": [
    "## INITIAL EXPLORATION"
   ]
  },
  {
   "cell_type": "code",
   "execution_count": 8,
   "metadata": {},
   "outputs": [
    {
     "name": "stdout",
     "output_type": "stream",
     "text": [
      "+-------+------------------+------------------+------------------+------------------+-----------------+------------------+------------------+------+--------------------+\n",
      "|summary|               mpg|         cylinders|      displacement|        horsepower|           weight|      acceleration|        model_year|origin|                name|\n",
      "+-------+------------------+------------------+------------------+------------------+-----------------+------------------+------------------+------+--------------------+\n",
      "|  count|               398|               398|               398|               392|              398|               398|               398|   398|                 398|\n",
      "|   mean|23.514572864321615| 5.454773869346734|193.42587939698493|104.46938775510205|2970.424623115578|15.568090452261291| 76.01005025125629|  NULL|                NULL|\n",
      "| stddev| 7.815984312565783|1.7010042445332123|104.26983817119587| 38.49115993282846|846.8417741973268| 2.757688929812676|3.6976266467325862|  NULL|                NULL|\n",
      "|    min|              10.0|                 3|             100.0|             100.0|             1613|              10.0|                70|europe|amc ambassador br...|\n",
      "|    max|               9.0|                 8|              98.0|              98.0|             5140|               9.5|                82|   usa|           vw type 3|\n",
      "+-------+------------------+------------------+------------------+------------------+-----------------+------------------+------------------+------+--------------------+\n",
      "\n"
     ]
    }
   ],
   "source": [
    "df.describe().show()"
   ]
  },
  {
   "cell_type": "code",
   "execution_count": 9,
   "metadata": {},
   "outputs": [
    {
     "name": "stdout",
     "output_type": "stream",
     "text": [
      "root\n",
      " |-- mpg: string (nullable = true)\n",
      " |-- cylinders: string (nullable = true)\n",
      " |-- displacement: string (nullable = true)\n",
      " |-- horsepower: string (nullable = true)\n",
      " |-- weight: string (nullable = true)\n",
      " |-- acceleration: string (nullable = true)\n",
      " |-- model_year: string (nullable = true)\n",
      " |-- origin: string (nullable = true)\n",
      " |-- name: string (nullable = true)\n",
      "\n"
     ]
    }
   ],
   "source": [
    "df.printSchema()"
   ]
  },
  {
   "cell_type": "code",
   "execution_count": 11,
   "metadata": {},
   "outputs": [
    {
     "name": "stdout",
     "output_type": "stream",
     "text": [
      "Numero de filas del df: 398\n"
     ]
    }
   ],
   "source": [
    "print(f'Numero de filas del df: {df.count()}')"
   ]
  },
  {
   "cell_type": "code",
   "execution_count": 33,
   "metadata": {},
   "outputs": [
    {
     "name": "stdout",
     "output_type": "stream",
     "text": [
      "The feature horsepower has 1.51% of NaN values\n"
     ]
    }
   ],
   "source": [
    "features_with_na = [feature for feature in df.columns if df.filter(df[feature].isNull()).count() > 0]\n",
    "\n",
    "for feature in features_with_na:\n",
    "    null_percentage = (df.filter(df[feature].isNull()).count() / df.count()) * 100\n",
    "    print(f'The feature {feature} has {null_percentage:.2f}% of NaN values')\n",
    "\n",
    "\n",
    "    "
   ]
  },
  {
   "cell_type": "markdown",
   "metadata": {},
   "source": [
    "### Ejercicios de Transformación de Datos con PySpark\n",
    "\n",
    "1. **Filtrar datos por eficiencia de combustible:**\n",
    "   - Filtra el DataFrame para mostrar solo los coches con una eficiencia de combustible superior a cierto umbral (por ejemplo, mostrar solo los coches con mpg mayor a 30).\n",
    "\n",
    "2. **Calcular la potencia por peso:**\n",
    "   - Crea una nueva columna que represente la potencia por peso para cada coche. Para ello, divide la columna de potencia entre la columna de peso.\n",
    "\n",
    "3. **Convertir la columna de peso a kg:**\n",
    "   - Convierte la columna de peso de libras a kilogramos.\n",
    "\n",
    "4. **Calcular el promedio de la eficiencia de combustible por año del modelo:**\n",
    "   - Agrupa los datos por año del modelo y calcula el promedio de la eficiencia de combustible para cada año.\n",
    "\n",
    "5. **Establecer valores predeterminados para valores faltantes:**\n",
    "   - Si hay valores faltantes en la columna de caballos de fuerza ('horsepower'), rellénalos con el valor promedio de la columna.\n",
    "\n",
    "6. **Agregar una nueva columna de fabricante:**\n",
    "   - Extrae el fabricante del nombre del modelo y crea una nueva columna con esta información.\n",
    "\n",
    "7. **Establecer una nueva columna de clase de eficiencia de combustible:**\n",
    "   - Crea una nueva columna que clasifique los coches en diferentes clases de eficiencia de combustible (por ejemplo, bajo, medio, alto) en función de su mpg.\n",
    "\n",
    "Estos son solo algunos ejemplos. Puedes combinar y personalizar estos ejercicios según tus necesidades y nivel de habilidad en PySpark. ¡Espero que te diviertas practicando tu análisis y transformación de datos! Si necesitas ayuda con alguno de estos ejercicios específicos, no dudes en preguntar.\n"
   ]
  },
  {
   "cell_type": "code",
   "execution_count": 37,
   "metadata": {},
   "outputs": [
    {
     "name": "stdout",
     "output_type": "stream",
     "text": [
      "+----+--------------------+\n",
      "| mpg|                name|\n",
      "+----+--------------------+\n",
      "|31.0| toyota corolla 1200|\n",
      "|35.0|         datsun 1200|\n",
      "|31.0|         datsun b210|\n",
      "|32.0| toyota corolla 1200|\n",
      "|31.0|       toyota corona|\n",
      "|32.0|          datsun 710|\n",
      "|31.0|           fiat x1.9|\n",
      "|33.0|    honda civic cvcc|\n",
      "|33.0|         honda civic|\n",
      "|32.0|        datsun b-210|\n",
      "|31.5|   honda accord cvcc|\n",
      "|36.0|       renault 5 gtl|\n",
      "|33.5|datsun f-10 hatch...|\n",
      "|33.5|      dodge colt m/m|\n",
      "|43.1|vw rabbit custom ...|\n",
      "|36.1|         ford fiesta|\n",
      "|32.8|    mazda glc deluxe|\n",
      "|39.4|      datsun b210 gx|\n",
      "|36.1|    honda civic cvcc|\n",
      "|31.5|         vw scirocco|\n",
      "+----+--------------------+\n",
      "only showing top 20 rows\n",
      "\n"
     ]
    }
   ],
   "source": [
    "# 1. Filtrar datos por eficiencia de combustible\n",
    "\n",
    "df.select('mpg','name').filter('mpg>30').show()"
   ]
  },
  {
   "cell_type": "code",
   "execution_count": 42,
   "metadata": {},
   "outputs": [
    {
     "name": "stdout",
     "output_type": "stream",
     "text": [
      "+----+---------+------------+----------+------+------------+----------+------+--------------------+---------------+\n",
      "| mpg|cylinders|displacement|horsepower|weight|acceleration|model_year|origin|                name|PotenciaPorPeso|\n",
      "+----+---------+------------+----------+------+------------+----------+------+--------------------+---------------+\n",
      "|18.0|        8|       307.0|     130.0|  3504|        12.0|        70|   usa|chevrolet chevell...|           0.04|\n",
      "|15.0|        8|       350.0|     165.0|  3693|        11.5|        70|   usa|   buick skylark 320|           0.04|\n",
      "|18.0|        8|       318.0|     150.0|  3436|        11.0|        70|   usa|  plymouth satellite|           0.04|\n",
      "|16.0|        8|       304.0|     150.0|  3433|        12.0|        70|   usa|       amc rebel sst|           0.04|\n",
      "|17.0|        8|       302.0|     140.0|  3449|        10.5|        70|   usa|         ford torino|           0.04|\n",
      "|15.0|        8|       429.0|     198.0|  4341|        10.0|        70|   usa|    ford galaxie 500|           0.05|\n",
      "|14.0|        8|       454.0|     220.0|  4354|         9.0|        70|   usa|    chevrolet impala|           0.05|\n",
      "|14.0|        8|       440.0|     215.0|  4312|         8.5|        70|   usa|   plymouth fury iii|           0.05|\n",
      "|14.0|        8|       455.0|     225.0|  4425|        10.0|        70|   usa|    pontiac catalina|           0.05|\n",
      "|15.0|        8|       390.0|     190.0|  3850|         8.5|        70|   usa|  amc ambassador dpl|           0.05|\n",
      "|15.0|        8|       383.0|     170.0|  3563|        10.0|        70|   usa| dodge challenger se|           0.05|\n",
      "|14.0|        8|       340.0|     160.0|  3609|         8.0|        70|   usa|  plymouth 'cuda 340|           0.04|\n",
      "|15.0|        8|       400.0|     150.0|  3761|         9.5|        70|   usa|chevrolet monte c...|           0.04|\n",
      "|14.0|        8|       455.0|     225.0|  3086|        10.0|        70|   usa|buick estate wago...|           0.07|\n",
      "|24.0|        4|       113.0|      95.0|  2372|        15.0|        70| japan|toyota corona mar...|           0.04|\n",
      "|22.0|        6|       198.0|      95.0|  2833|        15.5|        70|   usa|     plymouth duster|           0.03|\n",
      "|18.0|        6|       199.0|      97.0|  2774|        15.5|        70|   usa|          amc hornet|           0.03|\n",
      "|21.0|        6|       200.0|      85.0|  2587|        16.0|        70|   usa|       ford maverick|           0.03|\n",
      "|27.0|        4|        97.0|      88.0|  2130|        14.5|        70| japan|        datsun pl510|           0.04|\n",
      "|26.0|        4|        97.0|      46.0|  1835|        20.5|        70|europe|vw 1131 deluxe sedan|           0.03|\n",
      "+----+---------+------------+----------+------+------------+----------+------+--------------------+---------------+\n",
      "only showing top 20 rows\n",
      "\n"
     ]
    }
   ],
   "source": [
    "#2. Calcular la potencia por peso\n",
    "df2 = df.withColumn('PotenciaPorPeso', round(col('horsepower')/col('weight'),2)).show()"
   ]
  },
  {
   "cell_type": "code",
   "execution_count": 47,
   "metadata": {},
   "outputs": [
    {
     "name": "stdout",
     "output_type": "stream",
     "text": [
      "+----+---------+------------+----------+------+------------+----------+------+--------------------+---------+\n",
      "| mpg|cylinders|displacement|horsepower|weight|acceleration|model_year|origin|                name|Weight_Kg|\n",
      "+----+---------+------------+----------+------+------------+----------+------+--------------------+---------+\n",
      "|18.0|        8|       307.0|     130.0|  3504|        12.0|        70|   usa|chevrolet chevell...|   1576.8|\n",
      "|15.0|        8|       350.0|     165.0|  3693|        11.5|        70|   usa|   buick skylark 320|  1661.85|\n",
      "|18.0|        8|       318.0|     150.0|  3436|        11.0|        70|   usa|  plymouth satellite|   1546.2|\n",
      "|16.0|        8|       304.0|     150.0|  3433|        12.0|        70|   usa|       amc rebel sst|  1544.85|\n",
      "|17.0|        8|       302.0|     140.0|  3449|        10.5|        70|   usa|         ford torino|  1552.05|\n",
      "|15.0|        8|       429.0|     198.0|  4341|        10.0|        70|   usa|    ford galaxie 500|  1953.45|\n",
      "|14.0|        8|       454.0|     220.0|  4354|         9.0|        70|   usa|    chevrolet impala|   1959.3|\n",
      "|14.0|        8|       440.0|     215.0|  4312|         8.5|        70|   usa|   plymouth fury iii|   1940.4|\n",
      "|14.0|        8|       455.0|     225.0|  4425|        10.0|        70|   usa|    pontiac catalina|  1991.25|\n",
      "|15.0|        8|       390.0|     190.0|  3850|         8.5|        70|   usa|  amc ambassador dpl|   1732.5|\n",
      "|15.0|        8|       383.0|     170.0|  3563|        10.0|        70|   usa| dodge challenger se|  1603.35|\n",
      "|14.0|        8|       340.0|     160.0|  3609|         8.0|        70|   usa|  plymouth 'cuda 340|  1624.05|\n",
      "|15.0|        8|       400.0|     150.0|  3761|         9.5|        70|   usa|chevrolet monte c...|  1692.45|\n",
      "|14.0|        8|       455.0|     225.0|  3086|        10.0|        70|   usa|buick estate wago...|   1388.7|\n",
      "|24.0|        4|       113.0|      95.0|  2372|        15.0|        70| japan|toyota corona mar...|   1067.4|\n",
      "|22.0|        6|       198.0|      95.0|  2833|        15.5|        70|   usa|     plymouth duster|  1274.85|\n",
      "|18.0|        6|       199.0|      97.0|  2774|        15.5|        70|   usa|          amc hornet|   1248.3|\n",
      "|21.0|        6|       200.0|      85.0|  2587|        16.0|        70|   usa|       ford maverick|  1164.15|\n",
      "|27.0|        4|        97.0|      88.0|  2130|        14.5|        70| japan|        datsun pl510|    958.5|\n",
      "|26.0|        4|        97.0|      46.0|  1835|        20.5|        70|europe|vw 1131 deluxe sedan|   825.75|\n",
      "+----+---------+------------+----------+------+------------+----------+------+--------------------+---------+\n",
      "only showing top 20 rows\n",
      "\n"
     ]
    }
   ],
   "source": [
    "# 3. Convertir la columan de peso a kilogramos\n",
    "df.withColumn('Weight_Kg',round(col('Weight')*0.45,2)).show()"
   ]
  },
  {
   "cell_type": "code",
   "execution_count": 61,
   "metadata": {},
   "outputs": [
    {
     "name": "stdout",
     "output_type": "stream",
     "text": [
      "+----------+-------+\n",
      "|model_year|avg_mpg|\n",
      "+----------+-------+\n",
      "|        73|   17.1|\n",
      "|        71|  21.25|\n",
      "|        70|  17.69|\n",
      "|        75|  20.27|\n",
      "|        78|  24.06|\n",
      "|        77|  23.38|\n",
      "|        82|  31.71|\n",
      "|        81|  30.33|\n",
      "|        79|  25.09|\n",
      "|        72|  18.71|\n",
      "|        74|   22.7|\n",
      "|        76|  21.57|\n",
      "|        80|   33.7|\n",
      "+----------+-------+\n",
      "\n"
     ]
    }
   ],
   "source": [
    "#4. Calcular el promedio de eficiencia de combustible por año\n",
    "\n",
    "df.groupby('model_year').agg(round(mean('mpg'),2).alias('avg_mpg')).show()\n"
   ]
  },
  {
   "cell_type": "code",
   "execution_count": 65,
   "metadata": {},
   "outputs": [],
   "source": [
    "# 5. Rellenar los valores faltantes con el valor promedio\n",
    "\n",
    "# Calcular la media de la columna 'horsepower'\n",
    "horsepower_mean = df.select(mean('horsepower')).collect()[0][0]\n",
    "\n",
    "df_filled = df.fillna(horsepower_mean,subset=['horsepower'])"
   ]
  },
  {
   "cell_type": "code",
   "execution_count": 67,
   "metadata": {},
   "outputs": [
    {
     "name": "stdout",
     "output_type": "stream",
     "text": [
      "+----+---------+------------+----------+------+------------+----------+------+--------------------+----------+\n",
      "| mpg|cylinders|displacement|horsepower|weight|acceleration|model_year|origin|                name|Fabricante|\n",
      "+----+---------+------------+----------+------+------------+----------+------+--------------------+----------+\n",
      "|18.0|        8|       307.0|     130.0|  3504|        12.0|        70|   usa|chevrolet chevell...| chevrolet|\n",
      "|15.0|        8|       350.0|     165.0|  3693|        11.5|        70|   usa|   buick skylark 320|     buick|\n",
      "|18.0|        8|       318.0|     150.0|  3436|        11.0|        70|   usa|  plymouth satellite|  plymouth|\n",
      "|16.0|        8|       304.0|     150.0|  3433|        12.0|        70|   usa|       amc rebel sst|       amc|\n",
      "|17.0|        8|       302.0|     140.0|  3449|        10.5|        70|   usa|         ford torino|      ford|\n",
      "|15.0|        8|       429.0|     198.0|  4341|        10.0|        70|   usa|    ford galaxie 500|      ford|\n",
      "|14.0|        8|       454.0|     220.0|  4354|         9.0|        70|   usa|    chevrolet impala| chevrolet|\n",
      "|14.0|        8|       440.0|     215.0|  4312|         8.5|        70|   usa|   plymouth fury iii|  plymouth|\n",
      "|14.0|        8|       455.0|     225.0|  4425|        10.0|        70|   usa|    pontiac catalina|   pontiac|\n",
      "|15.0|        8|       390.0|     190.0|  3850|         8.5|        70|   usa|  amc ambassador dpl|       amc|\n",
      "|15.0|        8|       383.0|     170.0|  3563|        10.0|        70|   usa| dodge challenger se|     dodge|\n",
      "|14.0|        8|       340.0|     160.0|  3609|         8.0|        70|   usa|  plymouth 'cuda 340|  plymouth|\n",
      "|15.0|        8|       400.0|     150.0|  3761|         9.5|        70|   usa|chevrolet monte c...| chevrolet|\n",
      "|14.0|        8|       455.0|     225.0|  3086|        10.0|        70|   usa|buick estate wago...|     buick|\n",
      "|24.0|        4|       113.0|      95.0|  2372|        15.0|        70| japan|toyota corona mar...|    toyota|\n",
      "|22.0|        6|       198.0|      95.0|  2833|        15.5|        70|   usa|     plymouth duster|  plymouth|\n",
      "|18.0|        6|       199.0|      97.0|  2774|        15.5|        70|   usa|          amc hornet|       amc|\n",
      "|21.0|        6|       200.0|      85.0|  2587|        16.0|        70|   usa|       ford maverick|      ford|\n",
      "|27.0|        4|        97.0|      88.0|  2130|        14.5|        70| japan|        datsun pl510|    datsun|\n",
      "|26.0|        4|        97.0|      46.0|  1835|        20.5|        70|europe|vw 1131 deluxe sedan|        vw|\n",
      "+----+---------+------------+----------+------+------------+----------+------+--------------------+----------+\n",
      "only showing top 20 rows\n",
      "\n"
     ]
    }
   ],
   "source": [
    "#6.Agregar una nueva columna de fabricante\n",
    "df_filled.withColumn('Fabricante', split('name',' ')[0]).show()"
   ]
  },
  {
   "cell_type": "code",
   "execution_count": 72,
   "metadata": {},
   "outputs": [
    {
     "name": "stdout",
     "output_type": "stream",
     "text": [
      "+----+------------+\n",
      "| mpg|mpg_category|\n",
      "+----+------------+\n",
      "|18.0|         Low|\n",
      "|15.0|         Low|\n",
      "|18.0|         Low|\n",
      "|16.0|         Low|\n",
      "|17.0|         Low|\n",
      "|15.0|         Low|\n",
      "|14.0|         Low|\n",
      "|14.0|         Low|\n",
      "|14.0|         Low|\n",
      "|15.0|         Low|\n",
      "|15.0|         Low|\n",
      "|14.0|         Low|\n",
      "|15.0|         Low|\n",
      "|14.0|         Low|\n",
      "|24.0|         Low|\n",
      "|22.0|         Low|\n",
      "|18.0|         Low|\n",
      "|21.0|         Low|\n",
      "|27.0|         Low|\n",
      "|26.0|         Low|\n",
      "+----+------------+\n",
      "only showing top 20 rows\n",
      "\n"
     ]
    }
   ],
   "source": [
    "#7. Crear una nueva columna con valores segun su combustible\n",
    "\n",
    "df_with_fuel_category = df_filled.withColumn('mpg_category', \n",
    "                                                when(df_filled['mpg'] < 30, 'Low') \\\n",
    "                                              .when((df_filled['mpg'] >= 30) & (df_filled['mpg'] <= 50), 'Medium') \\\n",
    "                                              .otherwise('High'))\n",
    "\n",
    "df_with_fuel_category.select('mpg', 'mpg_category').show()\n"
   ]
  },
  {
   "cell_type": "code",
   "execution_count": 73,
   "metadata": {},
   "outputs": [
    {
     "name": "stdout",
     "output_type": "stream",
     "text": [
      "+----+------------+\n",
      "| mpg|mpg_category|\n",
      "+----+------------+\n",
      "|18.0|         Low|\n",
      "|15.0|         Low|\n",
      "|18.0|         Low|\n",
      "|16.0|         Low|\n",
      "|17.0|         Low|\n",
      "|15.0|         Low|\n",
      "|14.0|         Low|\n",
      "|14.0|         Low|\n",
      "|14.0|         Low|\n",
      "|15.0|         Low|\n",
      "|15.0|         Low|\n",
      "|14.0|         Low|\n",
      "|15.0|         Low|\n",
      "|14.0|         Low|\n",
      "|24.0|         Low|\n",
      "|22.0|         Low|\n",
      "|18.0|         Low|\n",
      "|21.0|         Low|\n",
      "|27.0|         Low|\n",
      "|26.0|         Low|\n",
      "+----+------------+\n",
      "only showing top 20 rows\n",
      "\n"
     ]
    }
   ],
   "source": [
    "df_with_fuel_category = df_filled.selectExpr('mpg',\n",
    "                                             'CASE WHEN mpg < 30 THEN \"Low\" ' \\\n",
    "                                             'WHEN mpg BETWEEN 30 AND 50 THEN \"Medium\" ' \\\n",
    "                                             'ELSE \"High\" END AS mpg_category')\n",
    "\n",
    "df_with_fuel_category.show()\n"
   ]
  },
  {
   "cell_type": "code",
   "execution_count": null,
   "metadata": {},
   "outputs": [],
   "source": []
  }
 ],
 "metadata": {
  "kernelspec": {
   "display_name": "Python 3",
   "language": "python",
   "name": "python3"
  },
  "language_info": {
   "codemirror_mode": {
    "name": "ipython",
    "version": 3
   },
   "file_extension": ".py",
   "mimetype": "text/x-python",
   "name": "python",
   "nbconvert_exporter": "python",
   "pygments_lexer": "ipython3",
   "version": "3.12.2"
  }
 },
 "nbformat": 4,
 "nbformat_minor": 2
}
